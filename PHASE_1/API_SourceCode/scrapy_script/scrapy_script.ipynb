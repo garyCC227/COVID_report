{
 "cells": [
  {
   "cell_type": "code",
   "execution_count": 1,
   "metadata": {},
   "outputs": [
    {
     "name": "stderr",
     "output_type": "stream",
     "text": [
      "2020-02-25 18:24:28 [scrapy.utils.log] INFO: Scrapy 1.8.0 started (bot: scrapybot)\n",
      "2020-02-25 18:24:28 [scrapy.utils.log] INFO: Versions: lxml 4.4.1.0, libxml2 2.9.9, cssselect 1.1.0, parsel 1.5.2, w3lib 1.21.0, Twisted 19.10.0, Python 3.6.8 (default, Oct  7 2019, 12:59:55) - [GCC 8.3.0], pyOpenSSL 19.1.0 (OpenSSL 1.1.1d  10 Sep 2019), cryptography 2.8, Platform Linux-5.0.0-37-generic-x86_64-with-Ubuntu-18.04-bionic\n",
      "2020-02-25 18:24:28 [scrapy.crawler] INFO: Overridden settings: {'FEED_FORMAT': 'csv', 'FEED_URI': 'temp.csv'}\n",
      "2020-02-25 18:24:28 [scrapy.extensions.telnet] INFO: Telnet Password: 64112fdbf4c9e5d3\n",
      "2020-02-25 18:24:28 [scrapy.middleware] INFO: Enabled extensions:\n",
      "['scrapy.extensions.corestats.CoreStats',\n",
      " 'scrapy.extensions.telnet.TelnetConsole',\n",
      " 'scrapy.extensions.memusage.MemoryUsage',\n",
      " 'scrapy.extensions.feedexport.FeedExporter',\n",
      " 'scrapy.extensions.logstats.LogStats']\n",
      "2020-02-25 18:24:28 [scrapy.middleware] INFO: Enabled downloader middlewares:\n",
      "['scrapy.downloadermiddlewares.httpauth.HttpAuthMiddleware',\n",
      " 'scrapy.downloadermiddlewares.downloadtimeout.DownloadTimeoutMiddleware',\n",
      " 'scrapy.downloadermiddlewares.defaultheaders.DefaultHeadersMiddleware',\n",
      " 'scrapy.downloadermiddlewares.useragent.UserAgentMiddleware',\n",
      " 'scrapy.downloadermiddlewares.retry.RetryMiddleware',\n",
      " 'scrapy.downloadermiddlewares.redirect.MetaRefreshMiddleware',\n",
      " 'scrapy.downloadermiddlewares.httpcompression.HttpCompressionMiddleware',\n",
      " 'scrapy.downloadermiddlewares.redirect.RedirectMiddleware',\n",
      " 'scrapy.downloadermiddlewares.cookies.CookiesMiddleware',\n",
      " 'scrapy.downloadermiddlewares.httpproxy.HttpProxyMiddleware',\n",
      " 'scrapy.downloadermiddlewares.stats.DownloaderStats']\n",
      "2020-02-25 18:24:28 [scrapy.middleware] INFO: Enabled spider middlewares:\n",
      "['scrapy.spidermiddlewares.httperror.HttpErrorMiddleware',\n",
      " 'scrapy.spidermiddlewares.offsite.OffsiteMiddleware',\n",
      " 'scrapy.spidermiddlewares.referer.RefererMiddleware',\n",
      " 'scrapy.spidermiddlewares.urllength.UrlLengthMiddleware',\n",
      " 'scrapy.spidermiddlewares.depth.DepthMiddleware']\n",
      "2020-02-25 18:24:28 [scrapy.middleware] INFO: Enabled item pipelines:\n",
      "[]\n",
      "2020-02-25 18:24:28 [scrapy.core.engine] INFO: Spider opened\n",
      "2020-02-25 18:24:28 [scrapy.extensions.logstats] INFO: Crawled 0 pages (at 0 pages/min), scraped 0 items (at 0 items/min)\n",
      "2020-02-25 18:24:28 [scrapy.extensions.telnet] INFO: Telnet console listening on 127.0.0.1:6023\n",
      "2020-02-25 18:24:31 [scrapy.core.engine] DEBUG: Crawled (200) <GET https://flutrackers.com/forum/forum/-2019-ncov-new-coronavirus/china-2019-ncov/japan-2019-ncov/822900-japan-government-confirms-2019-ncov-cases/page2> (referer: None)\n",
      "2020-02-25 18:24:31 [scrapy.core.engine] DEBUG: Crawled (200) <GET https://flutrackers.com/forum/forum/-2019-ncov-new-coronavirus/china-2019-ncov/japan-2019-ncov/822900-japan-government-confirms-2019-ncov-cases/page3> (referer: None)\n",
      "2020-02-25 18:24:31 [myspider] DEBUG: Saved file 822900-japan-government-confirms-2019-ncov-cases-1.html\n",
      "2020-02-25 18:24:31 [myspider] DEBUG: Saved file 822900-japan-government-confirms-2019-ncov-cases-2.html\n",
      "2020-02-25 18:24:31 [scrapy.core.engine] INFO: Closing spider (finished)\n",
      "2020-02-25 18:24:31 [scrapy.statscollectors] INFO: Dumping Scrapy stats:\n",
      "{'downloader/request_bytes': 678,\n",
      " 'downloader/request_count': 2,\n",
      " 'downloader/request_method_count/GET': 2,\n",
      " 'downloader/response_bytes': 58050,\n",
      " 'downloader/response_count': 2,\n",
      " 'downloader/response_status_count/200': 2,\n",
      " 'elapsed_time_seconds': 3.337544,\n",
      " 'finish_reason': 'finished',\n",
      " 'finish_time': datetime.datetime(2020, 2, 25, 7, 24, 31, 983825),\n",
      " 'log_count/DEBUG': 4,\n",
      " 'log_count/INFO': 10,\n",
      " 'memusage/max': 91344896,\n",
      " 'memusage/startup': 91344896,\n",
      " 'response_received_count': 2,\n",
      " 'scheduler/dequeued': 2,\n",
      " 'scheduler/dequeued/memory': 2,\n",
      " 'scheduler/enqueued': 2,\n",
      " 'scheduler/enqueued/memory': 2,\n",
      " 'start_time': datetime.datetime(2020, 2, 25, 7, 24, 28, 646281)}\n",
      "2020-02-25 18:24:31 [scrapy.core.engine] INFO: Spider closed (finished)\n"
     ]
    },
    {
     "data": {
      "text/plain": [
       "<DeferredList at 0x7f2d33197cc0 current result: []>"
      ]
     },
     "execution_count": 1,
     "metadata": {},
     "output_type": "execute_result"
    }
   ],
   "source": [
    "'''\n",
    "Explanation:\n",
    "  1. store urls text into urls.txt\n",
    "  2. run the crawler by reading all urls from urls.txt\n",
    "  3. store the page as html format\n",
    "  4. TODO:use beautifulsoup to play with the html page\n",
    "  5. TODO: now only can crawl one page. fix it to more page\n",
    "\n",
    "'''\n",
    "\n",
    "import scrapy\n",
    "from scrapy.crawler import CrawlerProcess\n",
    "\n",
    "DEFAULT_URLS = [\n",
    "    'https://flutrackers.com/forum/forum/-2019-ncov-new-coronavirus/australia-2019-ncov/824507-australia-2019-ncov-cases-news-information/page3']\n",
    "# crawler object\n",
    "process = CrawlerProcess(settings={\n",
    "    'FEED_FORMAT': 'csv',\n",
    "    'FEED_URI': 'temp.csv'\n",
    "})\n",
    "\n",
    "'''\n",
    "Function for store urls into urls.txt\n",
    "'''\n",
    "def store_urls(urls=DEFAULT_URLS):\n",
    "  # store urls into urls.txt\n",
    "  with open(\"urls.txt\", \"w\") as f:\n",
    "    for url in urls:\n",
    "      f.write(\"{}\\n\".format(url))\n",
    "\n",
    "\n",
    "class MySpider(scrapy.Spider):\n",
    "  name = \"myspider\"\n",
    "  allowed_domains = ['flutrackers.com']\n",
    "  start_urls = []\n",
    "  num_pages = 1\n",
    "\n",
    "  def __init__(self):\n",
    "    for line in open('./urls.txt', 'r').readlines():\n",
    "      self.start_urls.append('%s' % line)\n",
    "\n",
    "  def start_requests(self):\n",
    "     for url in self.start_urls:\n",
    "        yield scrapy.Request(url=url, callback=self.parse)\n",
    "      \n",
    "  def parse(self, response):\n",
    "    page = response.url.split(\"/\")[-2]\n",
    "    filename = '{}-{}.html'.format(page, self.num_pages)\n",
    "    self.num_pages += 1\n",
    "    with open(filename, 'wb') as f:\n",
    "      f.write(response.body)\n",
    "    self.log('Saved file %s' % filename)\n",
    "\n",
    "# runing the spider\n",
    "process.crawl(MySpider)\n",
    "process.start()\n",
    "process.stop()  # might be unneccseary\n"
   ]
  },
  {
   "cell_type": "code",
   "execution_count": null,
   "metadata": {},
   "outputs": [],
   "source": []
  }
 ],
 "metadata": {
  "kernelspec": {
   "display_name": "Python 3",
   "language": "python",
   "name": "python3"
  },
  "language_info": {
   "codemirror_mode": {
    "name": "ipython",
    "version": 3
   },
   "file_extension": ".py",
   "mimetype": "text/x-python",
   "name": "python",
   "nbconvert_exporter": "python",
   "pygments_lexer": "ipython3",
   "version": "3.6.8"
  },
  "varInspector": {
   "cols": {
    "lenName": 16,
    "lenType": 16,
    "lenVar": 40
   },
   "kernels_config": {
    "python": {
     "delete_cmd_postfix": "",
     "delete_cmd_prefix": "del ",
     "library": "var_list.py",
     "varRefreshCmd": "print(var_dic_list())"
    },
    "r": {
     "delete_cmd_postfix": ") ",
     "delete_cmd_prefix": "rm(",
     "library": "var_list.r",
     "varRefreshCmd": "cat(var_dic_list()) "
    }
   },
   "types_to_exclude": [
    "module",
    "function",
    "builtin_function_or_method",
    "instance",
    "_Feature"
   ],
   "window_display": false
  }
 },
 "nbformat": 4,
 "nbformat_minor": 2
}
