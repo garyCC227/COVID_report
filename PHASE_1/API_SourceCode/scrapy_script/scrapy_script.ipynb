{
 "cells": [
  {
   "cell_type": "code",
   "execution_count": 1,
   "metadata": {},
   "outputs": [],
   "source": [
    "import scrapy\n",
    "from scrapy.crawler import CrawlerProcess"
   ]
  },
  {
   "cell_type": "code",
   "execution_count": 4,
   "metadata": {},
   "outputs": [],
   "source": [
    "urls = ['https://flutrackers.com/forum/forum/-2019-ncov-new-coronavirus/australia-2019-ncov/824507-australia-2019-ncov-cases-news-information/page3']\n",
    "def store_urls(urls):\n",
    "  #store urls into urls.txt\n",
    "  with open(\"urls.txt\", \"w\") as f:\n",
    "    for url in urls:\n",
    "      f.write(\"{}\\n\".format(url))\n",
    "store_urls(['https://flutrackers.com/forum/forum/-2019-ncov-new-coronavirus/australia-2019-ncov/824507-australia-2019-ncov-cases-news-information'])"
   ]
  },
  {
   "cell_type": "code",
   "execution_count": 2,
   "metadata": {},
   "outputs": [],
   "source": [
    "import scrapy\n",
    "from scrapy.crawler import CrawlerProcess\n",
    "class MySpider(scrapy.Spider):\n",
    "    name = \"myspider\"\n",
    "    allowed_domains = ['flutrackers.com']\n",
    "    start_urls = []\n",
    "\n",
    "    def __init__(self):\n",
    "        for line in open('./urls.txt', 'r').readlines():\n",
    "            self.allowed_domains.append(line)\n",
    "            self.start_urls.append('%s' % line)\n",
    "\n",
    "    def parse(self, response):\n",
    "        page = response.url.split(\"/\")[-2]\n",
    "        filename = '%s.html' % page\n",
    "        with open(filename, 'wb') as f:\n",
    "            f.write(response.body)\n",
    "        self.log('Saved file %s' % filename)"
   ]
  },
  {
   "cell_type": "code",
   "execution_count": 55,
   "metadata": {},
   "outputs": [],
   "source": [
    "from bs4 import BeautifulSoup\n",
    "\n",
    "file = '824507-australia-2019-ncov-cases-news-information.html'\n",
    "f = open(file, 'r', encoding='utf-8', errors='ignore')\n",
    "soup = BeautifulSoup(f.read(), 'html.parser')\n",
    "posts = soup.findAll(name='div', attrs={\"class\":\"js-post__content-text\"},)"
   ]
  },
  {
   "cell_type": "code",
   "execution_count": 71,
   "metadata": {},
   "outputs": [],
   "source": [
    "x = [post.text.strip() for post in posts]\n",
    "  "
   ]
  },
  {
   "cell_type": "code",
   "execution_count": 72,
   "metadata": {},
   "outputs": [
    {
     "name": "stdout",
     "output_type": "stream",
     "text": [
      "Novel coronavirus alert\n",
      "\n",
      "6 February 2020\n",
      "\n",
      "\n",
      "There has been a fifth confirmed case of novel coronavirus in Queensland.\n",
      "\n",
      "The 37 year old woman, a Chinese national, is currently isolated in the Gold Coast University Hospital (GCUH).\n",
      "\n",
      "The woman is travelling in the same tour group as the previously confirmed cases – a 44 year old man, a 42 year old woman, a 37 year old man and an 8 year old boy.\n",
      "\n",
      "All five people who have been confirmed to have novel coronavirus are stable.\n",
      "\n",
      "The four others from the same tour group remain in isolation in GCUH.\n",
      "\n",
      "For general information about novel coronavirus including symptoms, diagnosis and treatment, visit www.health.qld.gov.au/coronavirus.\n",
      "\n",
      "https://www.health.qld.gov.au/news-e...el-coronavirus\n"
     ]
    }
   ],
   "source": [
    "for temp in x:\n",
    "  print(temp)\n",
    "  break;"
   ]
  },
  {
   "cell_type": "code",
   "execution_count": null,
   "metadata": {},
   "outputs": [],
   "source": []
  }
 ],
 "metadata": {
  "kernelspec": {
   "display_name": "Python 3",
   "language": "python",
   "name": "python3"
  },
  "language_info": {
   "codemirror_mode": {
    "name": "ipython",
    "version": 3
   },
   "file_extension": ".py",
   "mimetype": "text/x-python",
   "name": "python",
   "nbconvert_exporter": "python",
   "pygments_lexer": "ipython3",
   "version": "3.6.8"
  },
  "varInspector": {
   "cols": {
    "lenName": 16,
    "lenType": 16,
    "lenVar": 40
   },
   "kernels_config": {
    "python": {
     "delete_cmd_postfix": "",
     "delete_cmd_prefix": "del ",
     "library": "var_list.py",
     "varRefreshCmd": "print(var_dic_list())"
    },
    "r": {
     "delete_cmd_postfix": ") ",
     "delete_cmd_prefix": "rm(",
     "library": "var_list.r",
     "varRefreshCmd": "cat(var_dic_list()) "
    }
   },
   "types_to_exclude": [
    "module",
    "function",
    "builtin_function_or_method",
    "instance",
    "_Feature"
   ],
   "window_display": false
  }
 },
 "nbformat": 4,
 "nbformat_minor": 2
}
